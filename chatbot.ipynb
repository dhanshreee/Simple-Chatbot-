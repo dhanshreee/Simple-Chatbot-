{
 "cells": [
  {
   "cell_type": "code",
   "execution_count": 2,
   "id": "60ce5117-4de6-4145-b19d-f9a4998d1b71",
   "metadata": {},
   "outputs": [],
   "source": [
    "# import necessary libraries\n",
    "import random"
   ]
  },
  {
   "cell_type": "code",
   "execution_count": null,
   "id": "7f172777-576d-43c6-af84-1cb20318d5bf",
   "metadata": {},
   "outputs": [
    {
     "name": "stdout",
     "output_type": "stream",
     "text": [
      "welcome\n",
      "chatbot:hello! How can I assist you!\n"
     ]
    },
    {
     "name": "stdin",
     "output_type": "stream",
     "text": [
      "user: hi\n"
     ]
    },
    {
     "name": "stdout",
     "output_type": "stream",
     "text": [
      "chatbot:hello\n"
     ]
    }
   ],
   "source": [
    "# define the chatbot response\n",
    "greeting = [\"hello! How can I assist you!\"]\n",
    "farewell = [\"thank you for reaching to me, Have a good day!\"]\n",
    "\n",
    "#define options and thier corresponding answer as a dictionary\n",
    "\n",
    "option = {\n",
    "\"hi\" : \"hello\",\n",
    "    \n",
    "    \n",
    " \"what is chatbot\":\" it is a python program for help\",\n",
    "\"what service it provide\":\"it helps business to help customers to solve thier queries\",\n",
    "    \"what is my name\":\"your name is dhanshree\"\n",
    "}\n",
    "\n",
    "#define chatbot function\n",
    "def chatbot():\n",
    "    print(\"chatbot:\" +random.choice(greeting))\n",
    "\n",
    "    while True:\n",
    "       user_input = input(\"user:\")\n",
    "    \n",
    "       if user_input.lower() == \"exit\":\n",
    "          print(\"chatbot:\" +random.choice(farewell))\n",
    "          break \n",
    "        \n",
    "       if user_input in option:\n",
    "          print(\"chatbot:\"+ option[user_input])\n",
    "       else:\n",
    "          print(\"chatbot: i am sorry , i dont have information about it\")\n",
    "\n",
    "\n",
    "#start chatboy\n",
    "print(\"welcome\")\n",
    "chatbot()"
   ]
  },
  {
   "cell_type": "code",
   "execution_count": null,
   "id": "2f8f20a7-2d08-4143-ba3c-c5fb158b1abc",
   "metadata": {},
   "outputs": [],
   "source": []
  },
  {
   "cell_type": "code",
   "execution_count": null,
   "id": "0db975d6-e020-4fdd-b859-2f4312b196e1",
   "metadata": {},
   "outputs": [],
   "source": []
  }
 ],
 "metadata": {
  "kernelspec": {
   "display_name": "Python 3 (ipykernel)",
   "language": "python",
   "name": "python3"
  },
  "language_info": {
   "codemirror_mode": {
    "name": "ipython",
    "version": 3
   },
   "file_extension": ".py",
   "mimetype": "text/x-python",
   "name": "python",
   "nbconvert_exporter": "python",
   "pygments_lexer": "ipython3",
   "version": "3.12.7"
  }
 },
 "nbformat": 4,
 "nbformat_minor": 5
}
